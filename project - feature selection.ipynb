{
 "cells": [
  {
   "cell_type": "code",
   "execution_count": 32,
   "id": "e8e159c0",
   "metadata": {
    "ExecuteTime": {
     "end_time": "2025-03-08T17:23:55.795605Z",
     "start_time": "2025-03-08T17:23:51.218869Z"
    }
   },
   "outputs": [],
   "source": [
    "import os\n",
    "import pandas as pd\n",
    "import numpy as np\n",
    "import matplotlib.pyplot as plt\n",
    "from IPython.display import display\n",
    "import seaborn as sns\n",
    "from tqdm import tqdm"
   ]
  },
  {
   "cell_type": "markdown",
   "id": "79d178c6",
   "metadata": {},
   "source": [
    "# Load csv"
   ]
  },
  {
   "cell_type": "markdown",
   "id": "093fb561",
   "metadata": {},
   "source": [
    "## data daily"
   ]
  },
  {
   "cell_type": "code",
   "execution_count": null,
   "id": "e2734eae",
   "metadata": {},
   "outputs": [],
   "source": [
    "base_path = \"data_daily/\"\n",
    "\n",
    "data_daily_df = pd.DataFrame()\n",
    "\n",
    "for year in range(2010, 2015):\n",
    "    for month in range(1, 13):\n",
    "        for day in range(1, 32):\n",
    "            file_path = os.path.join(base_path, f\"dat.{year}{month:02d}{day:02d}.csv\")\n",
    "\n",
    "            if os.path.exists(file_path):\n",
    "                try:\n",
    "                    data = pd.read_csv(file_path)\n",
    "                    data_daily_df = pd.concat([data_daily_df, data], ignore_index=True)\n",
    "                except Exception as e:\n",
    "                    print(f\"Error reading {file_path}: {e}\")"
   ]
  },
  {
   "cell_type": "code",
   "execution_count": null,
   "id": "3d758c8c",
   "metadata": {},
   "outputs": [],
   "source": [
    "data_daily_df.to_csv('data_daily_df.csv', index=False)"
   ]
  },
  {
   "cell_type": "code",
   "execution_count": 2,
   "id": "a24a28ce",
   "metadata": {
    "ExecuteTime": {
     "end_time": "2025-03-08T17:23:57.364194Z",
     "start_time": "2025-03-08T17:23:55.807388Z"
    }
   },
   "outputs": [],
   "source": [
    "data_daily_df = pd.read_csv('data_daily_df.csv')\n",
    "data_daily_df['Date'] = pd.to_datetime(data_daily_df['Date'], format='%Y%m%d')"
   ]
  },
  {
   "cell_type": "markdown",
   "id": "4366171d",
   "metadata": {},
   "source": [
    "### adj data daily"
   ]
  },
  {
   "cell_type": "code",
   "execution_count": 3,
   "id": "2abf5a3c",
   "metadata": {
    "ExecuteTime": {
     "end_time": "2025-03-08T17:24:09.154620Z",
     "start_time": "2025-03-08T17:23:59.891292Z"
    }
   },
   "outputs": [],
   "source": [
    "def adjust_prices(group):\n",
    "    base_factor = group.iloc[-1]['PxAdjFactor']\n",
    "    group = group.copy()\n",
    "    group['adj_open']  = group['Open']  * (base_factor / group['PxAdjFactor'])\n",
    "    group['adj_high']  = group['High']  * (base_factor / group['PxAdjFactor'])\n",
    "    group['adj_low']   = group['Low']   * (base_factor / group['PxAdjFactor'])\n",
    "    group['adj_close'] = group['Close'] * (base_factor / group['PxAdjFactor'])\n",
    "    return group\n",
    "\n",
    "data_daily_df = data_daily_df.groupby('ID', group_keys=False).apply(adjust_prices)"
   ]
  },
  {
   "cell_type": "code",
   "execution_count": 4,
   "id": "3b213d55",
   "metadata": {
    "ExecuteTime": {
     "end_time": "2025-03-08T17:24:15.540915Z",
     "start_time": "2025-03-08T17:24:12.001989Z"
    }
   },
   "outputs": [],
   "source": [
    "def adjust_volume(group):\n",
    "    base_shares_factor = group.iloc[-1]['SharesAdjFactor']\n",
    "    group = group.copy()\n",
    "    group['adj_volume'] = group['Volume'] * (base_shares_factor / group['SharesAdjFactor'])\n",
    "    return group\n",
    "\n",
    "data_daily_df = data_daily_df.groupby('ID', group_keys=False).apply(adjust_volume)"
   ]
  },
  {
   "cell_type": "markdown",
   "id": "24a1c297",
   "metadata": {},
   "source": [
    "### return"
   ]
  },
  {
   "cell_type": "code",
   "execution_count": 5,
   "id": "58e70bf0",
   "metadata": {
    "ExecuteTime": {
     "end_time": "2025-03-08T17:24:17.301421Z",
     "start_time": "2025-03-08T17:24:16.129751Z"
    }
   },
   "outputs": [],
   "source": [
    "data_daily_df['return'] = data_daily_df.groupby('ID')['adj_close'].transform(lambda x: (x / x.shift(1) - 1))"
   ]
  },
  {
   "cell_type": "markdown",
   "id": "aed6bb42",
   "metadata": {},
   "source": [
    "### weight"
   ]
  },
  {
   "cell_type": "code",
   "execution_count": 6,
   "id": "2289fa68",
   "metadata": {
    "ExecuteTime": {
     "end_time": "2025-03-08T17:24:18.018835Z",
     "start_time": "2025-03-08T17:24:18.005653Z"
    }
   },
   "outputs": [],
   "source": [
    "data_daily_df['weight'] = np.sqrt(data_daily_df['MDV_63'])"
   ]
  },
  {
   "cell_type": "markdown",
   "id": "900d5d4a",
   "metadata": {},
   "source": [
    "### save edited dataframe"
   ]
  },
  {
   "cell_type": "code",
   "execution_count": 8,
   "id": "d8be5bdf",
   "metadata": {
    "ExecuteTime": {
     "end_time": "2025-03-08T17:25:28.587329Z",
     "start_time": "2025-03-08T17:24:58.727461Z"
    }
   },
   "outputs": [],
   "source": [
    "data_daily_df.to_csv('edited_data_daily_df.csv', index=False)"
   ]
  },
  {
   "cell_type": "code",
   "execution_count": 9,
   "id": "374145f0",
   "metadata": {
    "ExecuteTime": {
     "end_time": "2025-03-08T17:25:40.853339Z",
     "start_time": "2025-03-08T17:25:37.044627Z"
    }
   },
   "outputs": [],
   "source": [
    "data_daily_df = pd.read_csv('edited_data_daily_df.csv')"
   ]
  },
  {
   "cell_type": "markdown",
   "id": "34ec0cd3",
   "metadata": {},
   "source": [
    "## data intraday"
   ]
  },
  {
   "cell_type": "code",
   "execution_count": null,
   "id": "284d7a37",
   "metadata": {},
   "outputs": [],
   "source": [
    "base_path = \"data_intraday/\"\n",
    "\n",
    "data_intraday_df = pd.DataFrame()\n",
    "\n",
    "for year in range(2010, 2015):\n",
    "    for month in range(1, 13):\n",
    "        for day in range(1, 32):\n",
    "            file_path = os.path.join(base_path, f\"{year}{month:02d}{day:02d}.csv\")\n",
    "\n",
    "            if os.path.exists(file_path):\n",
    "                try:\n",
    "                    data = pd.read_csv(file_path)\n",
    "                    data_intraday_df = pd.concat([data_intraday_df, data], ignore_index=True)\n",
    "                except Exception as e:\n",
    "                    print(f\"Error reading {file_path}: {e}\")"
   ]
  },
  {
   "cell_type": "code",
   "execution_count": null,
   "id": "bbbdac7c",
   "metadata": {},
   "outputs": [],
   "source": [
    "data_intraday_df.to_csv('data_intraday_df.csv', index=False)"
   ]
  },
  {
   "cell_type": "code",
   "execution_count": 10,
   "id": "d285cfe6",
   "metadata": {
    "ExecuteTime": {
     "end_time": "2025-03-08T17:26:21.159400Z",
     "start_time": "2025-03-08T17:25:47.252396Z"
    }
   },
   "outputs": [],
   "source": [
    "data_intraday_df = pd.read_csv('data_intraday_df.csv')\n",
    "data_intraday_df['Date'] = pd.to_datetime(data_intraday_df['Date'], format='%Y%m%d')\n",
    "data_intraday_df['Time'] = data_intraday_df['Time'].str[:5]"
   ]
  },
  {
   "cell_type": "markdown",
   "id": "88df7ee2",
   "metadata": {},
   "source": [
    "### pivot"
   ]
  },
  {
   "cell_type": "code",
   "execution_count": 11,
   "id": "8fe533b3",
   "metadata": {
    "ExecuteTime": {
     "end_time": "2025-03-08T17:26:50.621974Z",
     "start_time": "2025-03-08T17:26:21.174181Z"
    }
   },
   "outputs": [],
   "source": [
    "# Change to wide form table\n",
    "data_intraday_df = data_intraday_df.pivot_table(\n",
    "    index=['Date', 'Id'],\n",
    "    columns='Time',\n",
    "    values=['CumReturnResid', 'CumReturnRaw', 'CumVolume']\n",
    ")\n",
    "data_intraday_df.columns = [f\"{var}_{time}\" for var, time in data_intraday_df.columns]\n",
    "data_intraday_df = data_intraday_df.reset_index()"
   ]
  },
  {
   "cell_type": "code",
   "execution_count": 40,
   "id": "060d5c36",
   "metadata": {
    "ExecuteTime": {
     "end_time": "2025-03-07T22:44:15.339510Z",
     "start_time": "2025-03-07T22:44:15.317341Z"
    }
   },
   "outputs": [
    {
     "data": {
      "text/html": [
       "<div>\n",
       "<style scoped>\n",
       "    .dataframe tbody tr th:only-of-type {\n",
       "        vertical-align: middle;\n",
       "    }\n",
       "\n",
       "    .dataframe tbody tr th {\n",
       "        vertical-align: top;\n",
       "    }\n",
       "\n",
       "    .dataframe thead th {\n",
       "        text-align: right;\n",
       "    }\n",
       "</style>\n",
       "<table border=\"1\" class=\"dataframe\">\n",
       "  <thead>\n",
       "    <tr style=\"text-align: right;\">\n",
       "      <th></th>\n",
       "      <th>Date</th>\n",
       "      <th>Id</th>\n",
       "      <th>CumReturnRaw_09:45</th>\n",
       "      <th>CumReturnRaw_10:00</th>\n",
       "      <th>CumReturnRaw_10:15</th>\n",
       "      <th>CumReturnRaw_10:30</th>\n",
       "      <th>CumReturnRaw_10:45</th>\n",
       "      <th>CumReturnRaw_11:00</th>\n",
       "      <th>CumReturnRaw_11:15</th>\n",
       "      <th>CumReturnRaw_11:30</th>\n",
       "      <th>...</th>\n",
       "      <th>CumVolume_13:45</th>\n",
       "      <th>CumVolume_14:00</th>\n",
       "      <th>CumVolume_14:15</th>\n",
       "      <th>CumVolume_14:30</th>\n",
       "      <th>CumVolume_14:45</th>\n",
       "      <th>CumVolume_15:00</th>\n",
       "      <th>CumVolume_15:15</th>\n",
       "      <th>CumVolume_15:30</th>\n",
       "      <th>CumVolume_15:45</th>\n",
       "      <th>CumVolume_16:00</th>\n",
       "    </tr>\n",
       "  </thead>\n",
       "  <tbody>\n",
       "    <tr>\n",
       "      <th>0</th>\n",
       "      <td>2010-01-04</td>\n",
       "      <td>BBG000B9WH86</td>\n",
       "      <td>0.021705</td>\n",
       "      <td>0.024186</td>\n",
       "      <td>0.037209</td>\n",
       "      <td>0.043411</td>\n",
       "      <td>0.041551</td>\n",
       "      <td>0.035969</td>\n",
       "      <td>0.034109</td>\n",
       "      <td>0.036590</td>\n",
       "      <td>...</td>\n",
       "      <td>18319154</td>\n",
       "      <td>18943352</td>\n",
       "      <td>19565588</td>\n",
       "      <td>20044828</td>\n",
       "      <td>20683356</td>\n",
       "      <td>21109560</td>\n",
       "      <td>21664756</td>\n",
       "      <td>22197704</td>\n",
       "      <td>23162596</td>\n",
       "      <td>25160630</td>\n",
       "    </tr>\n",
       "    <tr>\n",
       "      <th>1</th>\n",
       "      <td>2010-01-04</td>\n",
       "      <td>BBG000B9WJ73</td>\n",
       "      <td>0.029650</td>\n",
       "      <td>0.030998</td>\n",
       "      <td>0.042228</td>\n",
       "      <td>0.044474</td>\n",
       "      <td>0.050539</td>\n",
       "      <td>0.047844</td>\n",
       "      <td>0.050988</td>\n",
       "      <td>0.046496</td>\n",
       "      <td>...</td>\n",
       "      <td>2145103</td>\n",
       "      <td>2247552</td>\n",
       "      <td>2320463</td>\n",
       "      <td>2415533</td>\n",
       "      <td>2500430</td>\n",
       "      <td>2622971</td>\n",
       "      <td>2803886</td>\n",
       "      <td>2959772</td>\n",
       "      <td>3221438</td>\n",
       "      <td>3780092</td>\n",
       "    </tr>\n",
       "    <tr>\n",
       "      <th>2</th>\n",
       "      <td>2010-01-04</td>\n",
       "      <td>BBG000B9XRY4</td>\n",
       "      <td>0.015086</td>\n",
       "      <td>0.011931</td>\n",
       "      <td>0.010129</td>\n",
       "      <td>0.012999</td>\n",
       "      <td>0.013284</td>\n",
       "      <td>0.012074</td>\n",
       "      <td>0.011576</td>\n",
       "      <td>0.012430</td>\n",
       "      <td>...</td>\n",
       "      <td>12178250</td>\n",
       "      <td>12486499</td>\n",
       "      <td>12790198</td>\n",
       "      <td>13039100</td>\n",
       "      <td>13419996</td>\n",
       "      <td>13821269</td>\n",
       "      <td>14254671</td>\n",
       "      <td>15025785</td>\n",
       "      <td>15591479</td>\n",
       "      <td>16629073</td>\n",
       "    </tr>\n",
       "    <tr>\n",
       "      <th>3</th>\n",
       "      <td>2010-01-04</td>\n",
       "      <td>BBG000B9XYV2</td>\n",
       "      <td>0.014481</td>\n",
       "      <td>0.014713</td>\n",
       "      <td>0.011469</td>\n",
       "      <td>0.012164</td>\n",
       "      <td>0.010310</td>\n",
       "      <td>0.009152</td>\n",
       "      <td>0.010079</td>\n",
       "      <td>0.009152</td>\n",
       "      <td>...</td>\n",
       "      <td>1558707</td>\n",
       "      <td>1622068</td>\n",
       "      <td>1679508</td>\n",
       "      <td>1731335</td>\n",
       "      <td>1787940</td>\n",
       "      <td>1872126</td>\n",
       "      <td>2127369</td>\n",
       "      <td>2243327</td>\n",
       "      <td>2385796</td>\n",
       "      <td>2588493</td>\n",
       "    </tr>\n",
       "    <tr>\n",
       "      <th>4</th>\n",
       "      <td>2010-01-04</td>\n",
       "      <td>BBG000B9YJ35</td>\n",
       "      <td>0.004877</td>\n",
       "      <td>-0.000759</td>\n",
       "      <td>0.000108</td>\n",
       "      <td>0.000217</td>\n",
       "      <td>0.000217</td>\n",
       "      <td>-0.000867</td>\n",
       "      <td>-0.001734</td>\n",
       "      <td>-0.002168</td>\n",
       "      <td>...</td>\n",
       "      <td>805295</td>\n",
       "      <td>827067</td>\n",
       "      <td>841946</td>\n",
       "      <td>861878</td>\n",
       "      <td>891715</td>\n",
       "      <td>922622</td>\n",
       "      <td>964398</td>\n",
       "      <td>1012371</td>\n",
       "      <td>1070733</td>\n",
       "      <td>1178894</td>\n",
       "    </tr>\n",
       "  </tbody>\n",
       "</table>\n",
       "<p>5 rows × 80 columns</p>\n",
       "</div>"
      ],
      "text/plain": [
       "        Date            Id  CumReturnRaw_09:45  CumReturnRaw_10:00  \\\n",
       "0 2010-01-04  BBG000B9WH86            0.021705            0.024186   \n",
       "1 2010-01-04  BBG000B9WJ73            0.029650            0.030998   \n",
       "2 2010-01-04  BBG000B9XRY4            0.015086            0.011931   \n",
       "3 2010-01-04  BBG000B9XYV2            0.014481            0.014713   \n",
       "4 2010-01-04  BBG000B9YJ35            0.004877           -0.000759   \n",
       "\n",
       "   CumReturnRaw_10:15  CumReturnRaw_10:30  CumReturnRaw_10:45  \\\n",
       "0            0.037209            0.043411            0.041551   \n",
       "1            0.042228            0.044474            0.050539   \n",
       "2            0.010129            0.012999            0.013284   \n",
       "3            0.011469            0.012164            0.010310   \n",
       "4            0.000108            0.000217            0.000217   \n",
       "\n",
       "   CumReturnRaw_11:00  CumReturnRaw_11:15  CumReturnRaw_11:30  ...  \\\n",
       "0            0.035969            0.034109            0.036590  ...   \n",
       "1            0.047844            0.050988            0.046496  ...   \n",
       "2            0.012074            0.011576            0.012430  ...   \n",
       "3            0.009152            0.010079            0.009152  ...   \n",
       "4           -0.000867           -0.001734           -0.002168  ...   \n",
       "\n",
       "   CumVolume_13:45  CumVolume_14:00  CumVolume_14:15  CumVolume_14:30  \\\n",
       "0         18319154         18943352         19565588         20044828   \n",
       "1          2145103          2247552          2320463          2415533   \n",
       "2         12178250         12486499         12790198         13039100   \n",
       "3          1558707          1622068          1679508          1731335   \n",
       "4           805295           827067           841946           861878   \n",
       "\n",
       "   CumVolume_14:45  CumVolume_15:00  CumVolume_15:15  CumVolume_15:30  \\\n",
       "0         20683356         21109560         21664756         22197704   \n",
       "1          2500430          2622971          2803886          2959772   \n",
       "2         13419996         13821269         14254671         15025785   \n",
       "3          1787940          1872126          2127369          2243327   \n",
       "4           891715           922622           964398          1012371   \n",
       "\n",
       "   CumVolume_15:45  CumVolume_16:00  \n",
       "0         23162596         25160630  \n",
       "1          3221438          3780092  \n",
       "2         15591479         16629073  \n",
       "3          2385796          2588493  \n",
       "4          1070733          1178894  \n",
       "\n",
       "[5 rows x 80 columns]"
      ]
     },
     "execution_count": 40,
     "metadata": {},
     "output_type": "execute_result"
    }
   ],
   "source": [
    "data_intraday_df.head()"
   ]
  },
  {
   "cell_type": "markdown",
   "id": "24f3bbba",
   "metadata": {},
   "source": [
    "### interval return and volume"
   ]
  },
  {
   "cell_type": "code",
   "execution_count": 23,
   "id": "98a2a3cd",
   "metadata": {
    "ExecuteTime": {
     "end_time": "2025-03-08T17:37:28.615072Z",
     "start_time": "2025-03-08T17:37:28.609041Z"
    }
   },
   "outputs": [],
   "source": [
    "times = ['09:45', '10:00', '10:15', '10:30', '10:45', \n",
    "         '11:00', '11:15', '11:30', '11:45', '12:00', \n",
    "         '12:15', '12:30', '12:45', '13:00', '13:15', \n",
    "         '13:30', '13:45', '14:00', '14:15', '14:30', \n",
    "         '14:45', '15:00', '15:15', '15:30', '15:45', '16:00']"
   ]
  },
  {
   "cell_type": "code",
   "execution_count": 13,
   "id": "3ed30e61",
   "metadata": {
    "ExecuteTime": {
     "end_time": "2025-03-08T17:27:02.907218Z",
     "start_time": "2025-03-08T17:27:02.612871Z"
    }
   },
   "outputs": [],
   "source": [
    "data_intraday_df['ReturnResid_09:45'] = data_intraday_df['CumReturnResid_09:45']\n",
    "for i in range(1, len(times)):\n",
    "    start = times[i-1]\n",
    "    end = times[i]\n",
    "    data_intraday_df[f'ReturnResid_{end}'] = (data_intraday_df[f'CumReturnResid_{end}'] + 1) / (data_intraday_df[f'CumReturnResid_{start}'] + 1) - 1"
   ]
  },
  {
   "cell_type": "code",
   "execution_count": 98,
   "id": "6dfba2a7",
   "metadata": {
    "ExecuteTime": {
     "end_time": "2025-03-08T21:41:00.265051Z",
     "start_time": "2025-03-08T21:41:00.015278Z"
    }
   },
   "outputs": [],
   "source": [
    "data_intraday_df['ReturnRaw_09:45'] = data_intraday_df['CumReturnRaw_09:45']\n",
    "for i in range(1, len(times)):\n",
    "    start = times[i-1]\n",
    "    end = times[i]\n",
    "    data_intraday_df[f'ReturnRaw_{end}'] = (data_intraday_df[f'CumReturnRaw_{end}'] + 1) / (data_intraday_df[f'CumReturnResid_{start}'] + 1) - 1"
   ]
  },
  {
   "cell_type": "code",
   "execution_count": 14,
   "id": "d30e05d8",
   "metadata": {
    "ExecuteTime": {
     "end_time": "2025-03-08T17:27:05.271022Z",
     "start_time": "2025-03-08T17:27:05.173773Z"
    }
   },
   "outputs": [],
   "source": [
    "data_intraday_df['Volume_09:45'] = data_intraday_df['CumVolume_09:45']\n",
    "for i in range(1, len(times)):\n",
    "    start = times[i-1]\n",
    "    end = times[i]\n",
    "    data_intraday_df[f'Volume_{end}'] = data_intraday_df[f'CumVolume_{end}'] - data_intraday_df[f'CumVolume_{start}']"
   ]
  },
  {
   "cell_type": "markdown",
   "id": "6bbf0187",
   "metadata": {},
   "source": [
    "### plot volumes and returns"
   ]
  },
  {
   "cell_type": "code",
   "execution_count": 30,
   "id": "d4a27d6b",
   "metadata": {
    "ExecuteTime": {
     "end_time": "2025-03-08T17:42:22.831985Z",
     "start_time": "2025-03-08T17:42:22.342653Z"
    }
   },
   "outputs": [
    {
     "data": {
      "image/png": "[encoded data removed]",
      "text/plain": [
       "<Figure size 1200x600 with 1 Axes>"
      ]
     },
     "metadata": {},
     "output_type": "display_data"
    }
   ],
   "source": [
    "volume_cols = ['Volume_' + t for t in times]\n",
    "volume_sums = data_intraday_df[volume_cols].sum()\n",
    "\n",
    "plt.figure(figsize=(12,6))\n",
    "plt.bar(times, volume_sums, capsize=5)\n",
    "plt.xlabel('Time')\n",
    "plt.ylabel('Volume Sum')\n",
    "plt.title('Sum of volumes in each time interval')\n",
    "plt.xticks(rotation=45)\n",
    "plt.show()"
   ]
  },
  {
   "cell_type": "code",
   "execution_count": 31,
   "id": "3865878a",
   "metadata": {
    "ExecuteTime": {
     "end_time": "2025-03-08T17:43:06.646236Z",
     "start_time": "2025-03-08T17:43:05.805151Z"
    }
   },
   "outputs": [
    {
     "data": {
      "image/png": "[encoded data removed]",
      "text/plain": [
       "<Figure size 1200x600 with 1 Axes>"
      ]
     },
     "metadata": {},
     "output_type": "display_data"
    }
   ],
   "source": [
    "return_cols = ['ReturnResid_' + t for t in times]\n",
    "return_sums = data_intraday_df[return_cols].sum()\n",
    "\n",
    "plt.figure(figsize=(12,6))\n",
    "plt.bar(times, return_sums, capsize=5)\n",
    "plt.xlabel('Time')\n",
    "plt.ylabel('Return Sum')\n",
    "plt.title('Sum of returns in each time interval')\n",
    "plt.xticks(rotation=45)\n",
    "plt.show()"
   ]
  },
  {
   "cell_type": "markdown",
   "id": "fc07342b",
   "metadata": {},
   "source": [
    "Thoughts about intraday volumes and returns:\n",
    "\n",
    "Split the whole day into 5 intervals:\n",
    "- 9:30 - 10:00\n",
    "- 10:00 - 11:30\n",
    "- 11:30 - 13:30\n",
    "- 13:30 - 15:30\n",
    "- 15:30 - 16:00"
   ]
  },
  {
   "cell_type": "markdown",
   "id": "71b9db94",
   "metadata": {},
   "source": [
    "### save edited dataframe"
   ]
  },
  {
   "cell_type": "code",
   "execution_count": 15,
   "id": "a71055e1",
   "metadata": {
    "ExecuteTime": {
     "end_time": "2025-03-08T17:30:07.908909Z",
     "start_time": "2025-03-08T17:27:50.670897Z"
    }
   },
   "outputs": [],
   "source": [
    "data_intraday_df.to_csv('edited_data_intraday_df.csv', index=False)"
   ]
  },
  {
   "cell_type": "code",
   "execution_count": 5,
   "id": "80da5017",
   "metadata": {
    "ExecuteTime": {
     "end_time": "2025-03-08T17:33:58.649901Z",
     "start_time": "2025-03-08T17:33:31.254331Z"
    }
   },
   "outputs": [],
   "source": [
    "data_intraday_df = pd.read_csv('edited_data_intraday_df.csv')"
   ]
  },
  {
   "cell_type": "markdown",
   "id": "3b86e75b",
   "metadata": {},
   "source": [
    "# y"
   ]
  },
  {
   "cell_type": "code",
   "execution_count": 34,
   "id": "0cc61061",
   "metadata": {
    "ExecuteTime": {
     "end_time": "2025-03-08T17:45:59.274164Z",
     "start_time": "2025-03-08T17:45:56.546140Z"
    }
   },
   "outputs": [],
   "source": [
    "data_intraday_df['y'] = (\n",
    "    data_intraday_df.groupby('Id')\n",
    "    .apply(lambda g: (g['CumReturnResid_16:00'] + 1) / (g['CumReturnResid_15:30'] + 1) * (g['CumReturnResid_15:30'].shift(-1) + 1) - 1)\n",
    "    .reset_index(level=0, drop=True)\n",
    ")"
   ]
  },
  {
   "cell_type": "code",
   "execution_count": 38,
   "id": "fe77db18",
   "metadata": {
    "ExecuteTime": {
     "end_time": "2025-03-08T17:55:02.363448Z",
     "start_time": "2025-03-08T17:54:58.272726Z"
    }
   },
   "outputs": [],
   "source": [
    "data_intraday_df['y_RawReturn'] = (\n",
    "    data_intraday_df.groupby('Id')\n",
    "    .apply(lambda g: (g['CumReturnRaw_16:00'] + 1) / (g['CumReturnRaw_15:30'] + 1) * (g['CumReturnRaw_15:30'].shift(-1) + 1) - 1)\n",
    "    .reset_index(level=0, drop=True)\n",
    ")"
   ]
  },
  {
   "cell_type": "markdown",
   "id": "3850cd36",
   "metadata": {},
   "source": [
    "# Momentum"
   ]
  },
  {
   "cell_type": "markdown",
   "id": "ef185e25",
   "metadata": {},
   "source": [
    "Features related to momentum / reversal (returns)"
   ]
  },
  {
   "cell_type": "markdown",
   "id": "445abb33",
   "metadata": {},
   "source": [
    "## 5-Day Cumulative Residual Return"
   ]
  },
  {
   "cell_type": "markdown",
   "id": "d3934ea5",
   "metadata": {},
   "source": [
    "Cumulative sum of residual returns over the past\n",
    "five days"
   ]
  },
  {
   "cell_type": "code",
   "execution_count": 35,
   "id": "4776dfa3",
   "metadata": {
    "ExecuteTime": {
     "end_time": "2025-03-08T17:53:56.605627Z",
     "start_time": "2025-03-08T17:53:37.743169Z"
    }
   },
   "outputs": [],
   "source": [
    "data_intraday_df['cum_return_prev5d'] = data_intraday_df.groupby('Id')['CumReturnResid_16:00'].transform(\n",
    "    lambda x: x.shift(1).rolling(window=5, min_periods=5).apply(lambda y: np.nanprod(1 + y) - 1, raw=True)\n",
    ")"
   ]
  },
  {
   "cell_type": "markdown",
   "id": "9226d707",
   "metadata": {},
   "source": [
    "## 21-Day Cumulative Residual Return"
   ]
  },
  {
   "cell_type": "code",
   "execution_count": 36,
   "id": "7cbc6caa",
   "metadata": {
    "ExecuteTime": {
     "end_time": "2025-03-08T17:54:15.989350Z",
     "start_time": "2025-03-08T17:53:57.793296Z"
    }
   },
   "outputs": [],
   "source": [
    "data_intraday_df['cum_return_prev21d'] = data_intraday_df.groupby('Id')['CumReturnResid_16:00'].transform(\n",
    "    lambda x: x.shift(1).rolling(window=21, min_periods=21).apply(lambda y: np.nanprod(1 + y) - 1, raw=True)\n",
    ")"
   ]
  },
  {
   "cell_type": "markdown",
   "id": "81628520",
   "metadata": {},
   "source": [
    "## 63-Day Cumulative Residual Return"
   ]
  },
  {
   "cell_type": "code",
   "execution_count": 37,
   "id": "e759b6a3",
   "metadata": {
    "ExecuteTime": {
     "end_time": "2025-03-08T17:54:54.739629Z",
     "start_time": "2025-03-08T17:54:33.240304Z"
    }
   },
   "outputs": [],
   "source": [
    "data_intraday_df['cum_return_prev63d'] = data_intraday_df.groupby('Id')['CumReturnResid_16:00'].transform(\n",
    "    lambda x: x.shift(1).rolling(window=63, min_periods=63).apply(lambda y: np.nanprod(1 + y) - 1, raw=True)\n",
    ")"
   ]
  },
  {
   "cell_type": "markdown",
   "id": "f7a8a411",
   "metadata": {},
   "source": [
    "## Correlation plot"
   ]
  },
  {
   "cell_type": "markdown",
   "id": "753113a2",
   "metadata": {},
   "source": [
    "Intraday momentum"
   ]
  },
  {
   "cell_type": "code",
   "execution_count": null,
   "id": "bf0d1d00",
   "metadata": {},
   "outputs": [],
   "source": [
    "times = [\n",
    "    '09:45', '10:00', '10:15', '10:30', '10:45',\n",
    "    '11:00', '11:15', '11:30', '11:45', '12:00',\n",
    "    '12:15', '12:30', '12:45', '13:00', '13:15',\n",
    "    '13:30', '13:45', '14:00', '14:15', '14:30',\n",
    "    '14:45', '15:00', '15:15', '15:30', '15:45', '16:00'\n",
    "]\n",
    "returnresid_cols = [f\"ReturnResid_{t}\" for t in times]\n",
    "n = len(times)"
   ]
  },
  {
   "cell_type": "code",
   "execution_count": 85,
   "id": "bb19f47b",
   "metadata": {
    "ExecuteTime": {
     "end_time": "2025-03-08T21:00:12.110019Z",
     "start_time": "2025-03-08T21:00:04.649551Z"
    }
   },
   "outputs": [
    {
     "data": {
      "image/png": "[encoded data removed]",
      "text/plain": [
       "<Figure size 1200x600 with 1 Axes>"
      ]
     },
     "metadata": {},
     "output_type": "display_data"
    }
   ],
   "source": [
    "corr_current = []\n",
    "corr_prev = []\n",
    "for col in returnresid_cols:\n",
    "    corr_current.append(data_intraday_df['y'].corr(data_intraday_df[col]))\n",
    "    corr_prev.append(data_intraday_df['y'].corr(data_intraday_df.groupby('Id')[col].shift(1)))\n",
    "corr_current = corr_current[:-2]\n",
    "\n",
    "x_ticks = np.arange(2 * n - 2)\n",
    "x_tick_labels = [f\"prev_{t}\" for t in times] + times[:-2]\n",
    "fig, ax = plt.subplots(figsize=(12,6))\n",
    "ax.bar(np.arange(n), corr_prev, width=0.8, label='previous day')\n",
    "ax.bar(np.arange(n, 2 * n - 2), corr_current, width=0.8, label='current day')\n",
    "ax.set_xticks(x_ticks)\n",
    "ax.set_xticklabels(x_tick_labels, rotation=90)\n",
    "ax.set_ylabel('Correlation')\n",
    "ax.set_title(\"Correlations of y with ReturnResid in each time interval\")\n",
    "ax.legend()\n",
    "plt.show()"
   ]
  },
  {
   "cell_type": "markdown",
   "id": "ae87e146",
   "metadata": {},
   "source": [
    "Split the whole day into 5 intervals:\n",
    "- 9:30 - 10:00\n",
    "- 10:00 - 11:30\n",
    "- 11:30 - 13:30\n",
    "- 13:30 - 15:30\n",
    "- 15:30 - 16:00"
   ]
  },
  {
   "cell_type": "markdown",
   "id": "b07c3778",
   "metadata": {},
   "source": [
    "Thought:\n",
    "- Should not use ReturnResid_15:30, because it and y both used Close_15:30\n",
    "- Relations are pretty random\n",
    "- Split the cumulative returns into several intervals\n",
    "- Use cumulative relative volumes in each interval as features"
   ]
  },
  {
   "cell_type": "markdown",
   "id": "52e0d2fd",
   "metadata": {},
   "source": [
    "## Residual Return in intraday intervals"
   ]
  },
  {
   "cell_type": "code",
   "execution_count": 30,
   "id": "1203ad90",
   "metadata": {
    "ExecuteTime": {
     "end_time": "2025-03-08T21:10:33.859298Z",
     "start_time": "2025-03-08T21:10:33.699349Z"
    }
   },
   "outputs": [],
   "source": [
    "# Current day returns in time intervals\n",
    "data_intraday_df['cum_return_13:30_15:15'] = (\n",
    "    (data_intraday_df['CumReturnResid_15:15'] + 1) / (data_intraday_df['CumReturnResid_13:30'] + 1) - 1\n",
    ")\n",
    "data_intraday_df['cum_return_11:30_13:30'] = (\n",
    "    (data_intraday_df['CumReturnResid_13:30'] + 1) / (data_intraday_df['CumReturnResid_11:30'] + 1) - 1\n",
    ")\n",
    "data_intraday_df['cum_return_10:00_11:30'] = (\n",
    "    (data_intraday_df['CumReturnResid_11:30'] + 1) / (data_intraday_df['CumReturnResid_10:00'] + 1) - 1\n",
    ")\n",
    "data_intraday_df['cum_return_09:30_10:00'] = data_intraday_df['CumReturnResid_10:00']\n",
    "\n",
    "# Previous day return\n",
    "data_intraday_df['cum_return_prev1d'] = data_intraday_df.groupby('Id')['CumReturnResid_16:00'].shift(1)"
   ]
  },
  {
   "cell_type": "code",
   "execution_count": 35,
   "id": "5f1e0e32",
   "metadata": {
    "ExecuteTime": {
     "end_time": "2025-03-08T21:12:25.299987Z",
     "start_time": "2025-03-08T21:12:24.831604Z"
    }
   },
   "outputs": [
    {
     "data": {
      "image/png": "[encoded data removed]",
      "text/plain": [
       "<Figure size 1200x600 with 1 Axes>"
      ]
     },
     "metadata": {},
     "output_type": "display_data"
    }
   ],
   "source": [
    "cum_return_cols = [\n",
    "    'cum_return_prev1d', 'cum_return_09:30_10:00', 'cum_return_10:00_11:30',\n",
    "    'cum_return_11:30_13:30', 'cum_return_13:30_15:15'\n",
    "]\n",
    "correlations = [data_intraday_df['y'].corr(data_intraday_df[col]) for col in cum_return_cols]\n",
    "\n",
    "fig, ax = plt.subplots(figsize=(12, 6))\n",
    "ax.bar(np.arange(len(cum_return_cols)), correlations)\n",
    "x_tick_labels = [col.replace('cum_return_', '') for col in cum_return_cols]\n",
    "ax.set_xticks(np.arange(len(cum_return_cols)))\n",
    "ax.set_xticklabels(x_tick_labels, rotation=45)\n",
    "ax.set_ylabel('Correlation with y')\n",
    "ax.set_title(\"Correlation of y with Cumulative Return by Time Interval\")\n",
    "plt.show()"
   ]
  },
  {
   "cell_type": "markdown",
   "id": "542f2465",
   "metadata": {},
   "source": [
    "# Volume"
   ]
  },
  {
   "cell_type": "markdown",
   "id": "6baa6f2e",
   "metadata": {},
   "source": [
    "Features related to volume"
   ]
  },
  {
   "cell_type": "markdown",
   "id": "fb0a375c",
   "metadata": {},
   "source": [
    "## Calculate 5d mean volume"
   ]
  },
  {
   "cell_type": "markdown",
   "id": "e0b098d4",
   "metadata": {},
   "source": [
    "Use for calculating relative volume. Not a feature"
   ]
  },
  {
   "cell_type": "code",
   "execution_count": 53,
   "id": "3fcbef05",
   "metadata": {
    "ExecuteTime": {
     "end_time": "2025-03-08T18:41:23.939092Z",
     "start_time": "2025-03-08T18:40:46.208072Z"
    }
   },
   "outputs": [],
   "source": [
    "data_intraday_df['avg_vol_prev5d'] = data_intraday_df.groupby('Id')['CumVolume_16:00'].transform(\n",
    "    lambda x: x.shift(1).rolling(window=5, min_periods=5).apply(lambda y: np.nanmean(y), raw=True)\n",
    ")"
   ]
  },
  {
   "cell_type": "markdown",
   "id": "aa258124",
   "metadata": {},
   "source": [
    "## Correlation plot"
   ]
  },
  {
   "cell_type": "code",
   "execution_count": 58,
   "id": "f7d8516a",
   "metadata": {
    "ExecuteTime": {
     "end_time": "2025-03-08T18:52:47.632349Z",
     "start_time": "2025-03-08T18:52:47.625724Z"
    }
   },
   "outputs": [],
   "source": [
    "times = ['09:45', '10:00', '10:15', '10:30', '10:45', \n",
    "         '11:00', '11:15', '11:30', '11:45', '12:00', \n",
    "         '12:15', '12:30', '12:45', '13:00', '13:15', \n",
    "         '13:30', '13:45', '14:00', '14:15', '14:30', \n",
    "         '14:45', '15:00', '15:15', '15:30', '15:45', '16:00']\n",
    "volume_cols = ['Volume_' + t for t in times]\n",
    "n = len(times)"
   ]
  },
  {
   "cell_type": "markdown",
   "id": "39773cce",
   "metadata": {},
   "source": [
    "Correlation of y with raw volumes in each time interval"
   ]
  },
  {
   "cell_type": "code",
   "execution_count": null,
   "id": "5300a0cb",
   "metadata": {
    "ExecuteTime": {
     "end_time": "2025-03-08T18:49:21.488355Z",
     "start_time": "2025-03-08T18:49:14.433072Z"
    }
   },
   "outputs": [
    {
     "data": {
      "image/png": "[encoded data removed]",
      "text/plain": [
       "<Figure size 1200x600 with 1 Axes>"
      ]
     },
     "metadata": {},
     "output_type": "display_data"
    }
   ],
   "source": [
    "corr_current = []\n",
    "corr_prev = []\n",
    "for col in volume_cols:\n",
    "    corr_current.append(data_intraday_df['y'].corr(data_intraday_df[col]))\n",
    "    corr_prev.append(data_intraday_df['y'].corr(data_intraday_df.groupby('Id')[col].shift(1)))\n",
    "\n",
    "fig, ax = plt.subplots(figsize=(12,6))\n",
    "bars_prev = ax.bar(np.arange(n), corr_prev, width=0.8, label='previous day')\n",
    "bars_curr = ax.bar(np.arange(n, 2*n), corr_current, width=0.8, label='current day')\n",
    "x_ticks = np.arange(2*n)\n",
    "x_tick_labels = [f\"prev_{t}\" for t in times] + times\n",
    "ax.set_xticks(x_ticks)\n",
    "ax.set_xticklabels(x_tick_labels, rotation=90)\n",
    "ax.axvline(x=49, color='black', linestyle='--', label='Future information line')\n",
    "ax.set_ylabel('Corr')\n",
    "ax.set_title(\"Correlations of y with volumes in each time interval\")\n",
    "ax.legend()\n",
    "plt.show()"
   ]
  },
  {
   "cell_type": "markdown",
   "id": "ce53bdb8",
   "metadata": {},
   "source": [
    "Relative volumes : interval volume / 5d average volume"
   ]
  },
  {
   "cell_type": "markdown",
   "id": "e433e02e",
   "metadata": {},
   "source": [
    "Correlation of y with relative volumes in each time interval"
   ]
  },
  {
   "cell_type": "code",
   "execution_count": null,
   "id": "a9d0d57f",
   "metadata": {
    "ExecuteTime": {
     "end_time": "2025-03-08T18:51:53.603569Z",
     "start_time": "2025-03-08T18:51:46.242494Z"
    }
   },
   "outputs": [
    {
     "data": {
      "image/png": "[encoded data removed]",
      "text/plain": [
       "<Figure size 1200x600 with 1 Axes>"
      ]
     },
     "metadata": {},
     "output_type": "display_data"
    }
   ],
   "source": [
    "corr_current = []\n",
    "corr_prev = []\n",
    "for col in volume_cols:\n",
    "    corr_current.append(data_intraday_df['y'].corr(data_intraday_df[col] / data_intraday_df['avg_vol_prev5d']))\n",
    "    corr_prev.append(data_intraday_df['y'].corr(data_intraday_df.groupby('Id')[col].shift(1) / data_intraday_df['avg_vol_prev5d']))\n",
    "\n",
    "fig, ax = plt.subplots(figsize=(12,6))\n",
    "bars_prev = ax.bar(np.arange(n), corr_prev, width=0.8, label='previous day')\n",
    "bars_curr = ax.bar(np.arange(n, 2*n), corr_current, width=0.8, label='current day')\n",
    "x_ticks = np.arange(2*n)\n",
    "x_tick_labels = [f\"prev_{t}\" for t in times] + times\n",
    "ax.set_xticks(x_ticks)\n",
    "ax.set_xticklabels(x_tick_labels, rotation=90)\n",
    "ax.set_ylabel('Corr')\n",
    "ax.axvline(x=49, color='black', linestyle='--', label='Future information line')\n",
    "ax.set_title(\"Correlations of y with relative volumes in each time interval\")\n",
    "ax.legend()\n",
    "plt.show()"
   ]
  },
  {
   "cell_type": "markdown",
   "id": "96b6a59a",
   "metadata": {},
   "source": [
    "Split the whole day into 5 intervals:\n",
    "- 9:30 - 10:00\n",
    "- 10:00 - 11:30\n",
    "- 11:30 - 13:30\n",
    "- 13:30 - 15:30\n",
    "- 15:30 - 16:00"
   ]
  },
  {
   "cell_type": "markdown",
   "id": "c6a0ca54",
   "metadata": {},
   "source": [
    "Thought:\n",
    "- Better to use relative volumes\n",
    "- Use cumulative relative volumes in each interval as features"
   ]
  },
  {
   "cell_type": "markdown",
   "id": "8fa5a86b",
   "metadata": {},
   "source": [
    "## Relative Volume at 15:30"
   ]
  },
  {
   "cell_type": "markdown",
   "id": "0947d02c",
   "metadata": {},
   "source": [
    "$V_{relative,15:30} =\\frac{V_{15:30}}{\\text{mean}(V_{t−1}, V_{t−2}, V_{t−3}, V_{t−4}, V_{t−5})}$"
   ]
  },
  {
   "cell_type": "code",
   "execution_count": null,
   "id": "ea09c405",
   "metadata": {
    "ExecuteTime": {
     "end_time": "2025-03-08T18:59:54.224583Z",
     "start_time": "2025-03-08T18:59:54.208725Z"
    }
   },
   "outputs": [],
   "source": [
    "data_intraday_df['relative_volume_15:30'] = data_intraday_df['CumVolume_15:30'] / data_intraday_df['avg_vol_prev5d']"
   ]
  },
  {
   "cell_type": "markdown",
   "id": "8a244a21",
   "metadata": {},
   "source": [
    "## Relative Volume in intraday intervals"
   ]
  },
  {
   "cell_type": "markdown",
   "id": "1812824b",
   "metadata": {},
   "source": [
    "Cumulative relative volumes in each interval"
   ]
  },
  {
   "cell_type": "code",
   "execution_count": 60,
   "id": "3373d7ae",
   "metadata": {
    "ExecuteTime": {
     "end_time": "2025-03-08T19:12:19.619350Z",
     "start_time": "2025-03-08T19:12:19.293437Z"
    }
   },
   "outputs": [],
   "source": [
    "# Current day volumes in time intervals\n",
    "data_intraday_df['relative_volume_13:30_15:30'] = (\n",
    "    data_intraday_df['CumVolume_15:30'] - data_intraday_df['CumVolume_13:30']\n",
    ") / data_intraday_df['avg_vol_prev5d']\n",
    "\n",
    "data_intraday_df['relative_volume_11:30_13:30'] = (\n",
    "    data_intraday_df['CumVolume_13:30'] - data_intraday_df['CumVolume_11:30']\n",
    ") / data_intraday_df['avg_vol_prev5d']\n",
    "\n",
    "data_intraday_df['relative_volume_10:00_11:30'] = (\n",
    "    data_intraday_df['CumVolume_11:30'] - data_intraday_df['CumVolume_10:00']\n",
    ") / data_intraday_df['avg_vol_prev5d']\n",
    "\n",
    "data_intraday_df['relative_volume_09:30_10:00'] = (\n",
    "    data_intraday_df['CumVolume_10:00']\n",
    ") / data_intraday_df['avg_vol_prev5d']\n",
    "\n",
    "# Previous day volumes in 3 time intervals\n",
    "cumvol_16_prev   = data_intraday_df.groupby('Id')['CumVolume_16:00'].shift(1)\n",
    "cumvol_13_30_prev = data_intraday_df.groupby('Id')['CumVolume_13:30'].shift(1)\n",
    "cumvol_11_30_prev = data_intraday_df.groupby('Id')['CumVolume_11:30'].shift(1)\n",
    "\n",
    "data_intraday_df['relative_volume_prev13:30_16:00'] = (\n",
    "    cumvol_16_prev - cumvol_13_30_prev\n",
    ") / data_intraday_df['avg_vol_prev5d']\n",
    "\n",
    "data_intraday_df['relative_volume_prev11:30_13:30'] = (\n",
    "    cumvol_13_30_prev - cumvol_11_30_prev\n",
    ") / data_intraday_df['avg_vol_prev5d']\n",
    "\n",
    "data_intraday_df['relative_volume_prev09:30_11:30'] = (\n",
    "    cumvol_11_30_prev\n",
    ") / data_intraday_df['avg_vol_prev5d']"
   ]
  },
  {
   "cell_type": "code",
   "execution_count": 63,
   "id": "929a6677",
   "metadata": {
    "ExecuteTime": {
     "end_time": "2025-03-08T19:23:09.490959Z",
     "start_time": "2025-03-08T19:23:09.003823Z"
    }
   },
   "outputs": [
    {
     "data": {
      "image/png": "[encoded data removed]",
      "text/plain": [
       "<Figure size 1200x600 with 1 Axes>"
      ]
     },
     "metadata": {},
     "output_type": "display_data"
    }
   ],
   "source": [
    "relative_volume_cols = [\n",
    "    'relative_volume_prev09:30_11:30', 'relative_volume_prev11:30_13:30', 'relative_volume_prev13:30_16:00',\n",
    "    'relative_volume_09:30_10:00', 'relative_volume_10:00_11:30', 'relative_volume_11:30_13:30', 'relative_volume_13:30_15:30',\n",
    "]\n",
    "correlations = [data_intraday_df['y'].corr(data_intraday_df[col]) for col in relative_volume_cols]\n",
    "\n",
    "fig, ax = plt.subplots(figsize=(12, 6))\n",
    "ax.bar(np.arange(len(relative_volume_cols)), correlations)\n",
    "x_tick_labels = [col.replace('relative_volume_', '') for col in relative_volume_cols]\n",
    "ax.set_xticks(np.arange(len(relative_volume_cols)))\n",
    "ax.set_xticklabels(x_tick_labels, rotation=45)\n",
    "ax.set_ylabel('Correlation with y')\n",
    "ax.set_title(\"Correlation of y with Relative Volume by Time Interval\")\n",
    "plt.show()"
   ]
  },
  {
   "cell_type": "markdown",
   "id": "1b95615b",
   "metadata": {},
   "source": [
    "# Relation of volumes and returns"
   ]
  },
  {
   "cell_type": "markdown",
   "id": "286808fd",
   "metadata": {},
   "source": [
    "Relation of intraday volumes and residual returns (corr)"
   ]
  },
  {
   "cell_type": "code",
   "execution_count": 101,
   "id": "95ba428c",
   "metadata": {
    "ExecuteTime": {
     "end_time": "2025-03-08T21:41:51.359281Z",
     "start_time": "2025-03-08T21:41:50.299937Z"
    }
   },
   "outputs": [
    {
     "name": "stderr",
     "output_type": "stream",
     "text": [
      "C:\\Users\\52431\\AppData\\Local\\Temp\\ipykernel_17528\\942413085.py:9: RuntimeWarning: Mean of empty slice\n",
      "  mean_returns = np.nanmean(returns, axis=1, keepdims=True)\n",
      "C:\\Users\\52431\\AppData\\Local\\Temp\\ipykernel_17528\\942413085.py:13: RuntimeWarning: invalid value encountered in divide\n",
      "  corr = np.where(denom != 0, num/denom, np.nan)\n"
     ]
    }
   ],
   "source": [
    "times = ['09:45', '10:00', '10:15', '10:30', '10:45', \n",
    "         '11:00', '11:15', '11:30', '11:45', '12:00', \n",
    "         '12:15', '12:30', '12:45', '13:00', '13:15', \n",
    "         '13:30', '13:45', '14:00', '14:15', '14:30', \n",
    "         '14:45', '15:00', '15:15']\n",
    "returns = data_intraday_df[[f'ReturnResid_{time}' for time in times]].to_numpy()\n",
    "volumes = data_intraday_df[[f'Volume_{time}' for time in times]].to_numpy()\n",
    "\n",
    "mean_returns = np.nanmean(returns, axis=1, keepdims=True)\n",
    "mean_volumes = np.nanmean(volumes, axis=1, keepdims=True)\n",
    "num = np.nansum((returns - mean_returns) * (volumes - mean_volumes), axis=1)\n",
    "denom = np.sqrt(np.nansum((returns - mean_returns)**2, axis=1) * np.nansum((volumes - mean_volumes)**2, axis=1))\n",
    "corr = np.where(denom != 0, num/denom, np.nan)\n",
    "\n",
    "data_intraday_df['volume_resid_return_corr'] = corr"
   ]
  },
  {
   "cell_type": "markdown",
   "id": "16f9a51c",
   "metadata": {},
   "source": [
    "Relation of intraday volumes and raw returns (corr)"
   ]
  },
  {
   "cell_type": "code",
   "execution_count": 103,
   "id": "01597e01",
   "metadata": {
    "ExecuteTime": {
     "end_time": "2025-03-08T21:42:01.626252Z",
     "start_time": "2025-03-08T21:42:00.732743Z"
    }
   },
   "outputs": [
    {
     "name": "stderr",
     "output_type": "stream",
     "text": [
      "C:\\Users\\52431\\AppData\\Local\\Temp\\ipykernel_17528\\2345560097.py:9: RuntimeWarning: Mean of empty slice\n",
      "  mean_returns = np.nanmean(returns, axis=1, keepdims=True)\n",
      "C:\\Users\\52431\\AppData\\Local\\Temp\\ipykernel_17528\\2345560097.py:13: RuntimeWarning: invalid value encountered in divide\n",
      "  corr = np.where(denom != 0, num/denom, np.nan)\n"
     ]
    }
   ],
   "source": [
    "times = ['09:45', '10:00', '10:15', '10:30', '10:45', \n",
    "         '11:00', '11:15', '11:30', '11:45', '12:00', \n",
    "         '12:15', '12:30', '12:45', '13:00', '13:15', \n",
    "         '13:30', '13:45', '14:00', '14:15', '14:30', \n",
    "         '14:45', '15:00', '15:15']\n",
    "returns = data_intraday_df[[f'ReturnRaw_{time}' for time in times]].to_numpy()\n",
    "volumes = data_intraday_df[[f'Volume_{time}' for time in times]].to_numpy()\n",
    "\n",
    "mean_returns = np.nanmean(returns, axis=1, keepdims=True)\n",
    "mean_volumes = np.nanmean(volumes, axis=1, keepdims=True)\n",
    "num = np.nansum((returns - mean_returns) * (volumes - mean_volumes), axis=1)\n",
    "denom = np.sqrt(np.nansum((returns - mean_returns)**2, axis=1) * np.nansum((volumes - mean_volumes)**2, axis=1))\n",
    "corr = np.where(denom != 0, num/denom, np.nan)\n",
    "\n",
    "data_intraday_df['volume_raw_return_corr'] = corr"
   ]
  },
  {
   "cell_type": "markdown",
   "id": "3028e205",
   "metadata": {},
   "source": [
    "Correlation of y and return&volume correlation features"
   ]
  },
  {
   "cell_type": "code",
   "execution_count": 108,
   "id": "ab5c1da8",
   "metadata": {
    "ExecuteTime": {
     "end_time": "2025-03-08T21:45:36.589848Z",
     "start_time": "2025-03-08T21:45:36.527980Z"
    }
   },
   "outputs": [
    {
     "data": {
      "text/html": [
       "<div>\n",
       "<style scoped>\n",
       "    .dataframe tbody tr th:only-of-type {\n",
       "        vertical-align: middle;\n",
       "    }\n",
       "\n",
       "    .dataframe tbody tr th {\n",
       "        vertical-align: top;\n",
       "    }\n",
       "\n",
       "    .dataframe thead th {\n",
       "        text-align: right;\n",
       "    }\n",
       "</style>\n",
       "<table border=\"1\" class=\"dataframe\">\n",
       "  <thead>\n",
       "    <tr style=\"text-align: right;\">\n",
       "      <th></th>\n",
       "      <th>y</th>\n",
       "      <th>volume_resid_return_corr</th>\n",
       "      <th>volume_raw_return_corr</th>\n",
       "    </tr>\n",
       "  </thead>\n",
       "  <tbody>\n",
       "    <tr>\n",
       "      <th>y</th>\n",
       "      <td>1.000000</td>\n",
       "      <td>0.004761</td>\n",
       "      <td>0.004948</td>\n",
       "    </tr>\n",
       "    <tr>\n",
       "      <th>volume_resid_return_corr</th>\n",
       "      <td>0.004761</td>\n",
       "      <td>1.000000</td>\n",
       "      <td>0.555929</td>\n",
       "    </tr>\n",
       "    <tr>\n",
       "      <th>volume_raw_return_corr</th>\n",
       "      <td>0.004948</td>\n",
       "      <td>0.555929</td>\n",
       "      <td>1.000000</td>\n",
       "    </tr>\n",
       "  </tbody>\n",
       "</table>\n",
       "</div>"
      ],
      "text/plain": [
       "                                 y  volume_resid_return_corr  \\\n",
       "y                         1.000000                  0.004761   \n",
       "volume_resid_return_corr  0.004761                  1.000000   \n",
       "volume_raw_return_corr    0.004948                  0.555929   \n",
       "\n",
       "                          volume_raw_return_corr  \n",
       "y                                       0.004948  \n",
       "volume_resid_return_corr                0.555929  \n",
       "volume_raw_return_corr                  1.000000  "
      ]
     },
     "execution_count": 108,
     "metadata": {},
     "output_type": "execute_result"
    }
   ],
   "source": [
    "data_intraday_df[['y','volume_resid_return_corr','volume_raw_return_corr']].corr()"
   ]
  },
  {
   "cell_type": "markdown",
   "id": "ebc038cb",
   "metadata": {},
   "source": [
    "# Volatility"
   ]
  },
  {
   "cell_type": "markdown",
   "id": "d9cb8415",
   "metadata": {},
   "source": [
    "Features related to volatility"
   ]
  },
  {
   "cell_type": "markdown",
   "id": "90dcba83",
   "metadata": {},
   "source": [
    "## 21-Day Rolling Volatility raw"
   ]
  },
  {
   "cell_type": "markdown",
   "id": "bcc3496d",
   "metadata": {},
   "source": [
    "21-day rolling volatility for raw returns"
   ]
  },
  {
   "cell_type": "code",
   "execution_count": 42,
   "id": "d2710311",
   "metadata": {
    "ExecuteTime": {
     "end_time": "2025-03-08T18:00:27.317211Z",
     "start_time": "2025-03-08T17:58:59.406462Z"
    }
   },
   "outputs": [],
   "source": [
    "data_daily_df['volatility_21d_raw'] = data_daily_df.groupby('ID')['return'].transform(\n",
    "    lambda x: x.shift(1).rolling(window=21, min_periods=21).apply(lambda y: np.nanstd(y, ddof=1), raw=True)\n",
    ")"
   ]
  },
  {
   "cell_type": "markdown",
   "id": "37e8a55e",
   "metadata": {},
   "source": [
    "## 21-Day Rolling Volatility resid"
   ]
  },
  {
   "cell_type": "markdown",
   "id": "6c2de430",
   "metadata": {},
   "source": [
    "21-day rolling volatility for residual returns"
   ]
  },
  {
   "cell_type": "code",
   "execution_count": 44,
   "id": "98224de5",
   "metadata": {
    "ExecuteTime": {
     "end_time": "2025-03-08T18:05:18.677353Z",
     "start_time": "2025-03-08T18:03:44.857315Z"
    }
   },
   "outputs": [],
   "source": [
    "data_intraday_df['volatility_21d_resid'] = data_intraday_df.groupby('Id')['CumReturnResid_16:00'].transform(\n",
    "    lambda x: x.shift(1).rolling(window=21, min_periods=21).apply(lambda y: np.nanstd(y, ddof=1), raw=True)\n",
    ")"
   ]
  },
  {
   "cell_type": "markdown",
   "id": "99dc0099",
   "metadata": {},
   "source": [
    "## 63-Day Rolling Volatility raw"
   ]
  },
  {
   "cell_type": "markdown",
   "id": "bc970440",
   "metadata": {},
   "source": [
    "63-day rolling volatility for raw returns"
   ]
  },
  {
   "cell_type": "code",
   "execution_count": 43,
   "id": "7a59e422",
   "metadata": {
    "ExecuteTime": {
     "end_time": "2025-03-08T18:02:12.519657Z",
     "start_time": "2025-03-08T18:00:43.254935Z"
    }
   },
   "outputs": [],
   "source": [
    "data_daily_df['volatility_63d_raw'] = data_daily_df.groupby('ID')['return'].transform(\n",
    "    lambda x: x.shift(1).rolling(window=63, min_periods=63).apply(lambda y: np.nanstd(y, ddof=1), raw=True)\n",
    ")"
   ]
  },
  {
   "cell_type": "markdown",
   "id": "989cb0c5",
   "metadata": {},
   "source": [
    "## 63-Day Rolling Volatility resid"
   ]
  },
  {
   "cell_type": "markdown",
   "id": "f10facd8",
   "metadata": {},
   "source": [
    "63-day rolling volatility for residual returns"
   ]
  },
  {
   "cell_type": "code",
   "execution_count": 45,
   "id": "d03bffd4",
   "metadata": {
    "ExecuteTime": {
     "end_time": "2025-03-08T18:07:16.877333Z",
     "start_time": "2025-03-08T18:05:59.895765Z"
    }
   },
   "outputs": [],
   "source": [
    "data_intraday_df['volatility_63d_resid'] = data_intraday_df.groupby('Id')['CumReturnResid_16:00'].transform(\n",
    "    lambda x: x.shift(1).rolling(window=63, min_periods=63).apply(lambda y: np.nanstd(y, ddof=1), raw=True)\n",
    ")"
   ]
  },
  {
   "cell_type": "markdown",
   "id": "976198fd",
   "metadata": {},
   "source": [
    "## hlc ratio"
   ]
  },
  {
   "cell_type": "markdown",
   "id": "85cb8148",
   "metadata": {},
   "source": [
    "hlc ratio : (high - low) / close"
   ]
  },
  {
   "cell_type": "code",
   "execution_count": 39,
   "id": "1984f8c1",
   "metadata": {
    "ExecuteTime": {
     "end_time": "2025-03-08T17:57:18.980406Z",
     "start_time": "2025-03-08T17:57:18.960346Z"
    }
   },
   "outputs": [],
   "source": [
    "data_daily_df['hlc_ratio'] = (data_daily_df['adj_high'] - data_daily_df['adj_low']) / data_daily_df['adj_close']"
   ]
  },
  {
   "cell_type": "code",
   "execution_count": 40,
   "id": "548e5647",
   "metadata": {
    "ExecuteTime": {
     "end_time": "2025-03-08T17:57:19.510007Z",
     "start_time": "2025-03-08T17:57:19.503490Z"
    }
   },
   "outputs": [],
   "source": [
    "# Clean one outlier\n",
    "data_daily_df.loc[data_daily_df['hlc_ratio'] > 10, 'hlc_ratio'] = 0"
   ]
  },
  {
   "cell_type": "markdown",
   "id": "0a9bdc83",
   "metadata": {},
   "source": [
    "hlc ratio 21 days rolling mean"
   ]
  },
  {
   "cell_type": "code",
   "execution_count": 41,
   "id": "ddb859b9",
   "metadata": {
    "ExecuteTime": {
     "end_time": "2025-03-08T17:57:22.085617Z",
     "start_time": "2025-03-08T17:57:21.150440Z"
    }
   },
   "outputs": [],
   "source": [
    "data_daily_df['hlc_21mean'] = data_daily_df.groupby('ID')['hlc_ratio'].transform(\n",
    "    lambda x: x.shift(1).rolling(window=21, min_periods=21).mean()\n",
    ")"
   ]
  },
  {
   "cell_type": "markdown",
   "id": "6356bd26",
   "metadata": {},
   "source": [
    "## 1-Day Rolling Volatility"
   ]
  },
  {
   "cell_type": "markdown",
   "id": "fbe845f9",
   "metadata": {},
   "source": [
    "$\\sigma_{1d} = \\text{std}(R_{t,9:45},R_{t,10:00}, ...,R_{t,15:15})$\n",
    "\n",
    "Do not use $R_{t,15:30}$, because $R_{t,15:30}$ and $R_{t,16:00}$, i.e. part of $y$ both used $Close_{t, 15:30}$ to calculate."
   ]
  },
  {
   "cell_type": "code",
   "execution_count": 78,
   "id": "36a0106a",
   "metadata": {
    "ExecuteTime": {
     "end_time": "2025-03-08T20:31:08.334630Z",
     "start_time": "2025-03-08T20:31:08.142755Z"
    }
   },
   "outputs": [],
   "source": [
    "times = ['09:45', '10:00', '10:15', '10:30', '10:45', \n",
    "         '11:00', '11:15', '11:30', '11:45', '12:00', \n",
    "         '12:15', '12:30', '12:45', '13:00', '13:15', \n",
    "         '13:30', '13:45', '14:00', '14:15', '14:30', \n",
    "         '14:45', '15:00', '15:15']\n",
    "\n",
    "intraday_cols = ['ReturnResid_' + t for t in times]\n",
    "data_intraday_df['volatility_1d'] = data_intraday_df[intraday_cols].std(axis=1)"
   ]
  },
  {
   "cell_type": "markdown",
   "id": "4979d17c",
   "metadata": {},
   "source": [
    "# Skewness"
   ]
  },
  {
   "cell_type": "markdown",
   "id": "fdc7b322",
   "metadata": {},
   "source": [
    "Features related to skewness"
   ]
  },
  {
   "cell_type": "markdown",
   "id": "76eedf32",
   "metadata": {},
   "source": [
    "## Intraday skewness"
   ]
  },
  {
   "cell_type": "code",
   "execution_count": 109,
   "id": "2f30f486",
   "metadata": {
    "ExecuteTime": {
     "end_time": "2025-03-08T21:54:33.562721Z",
     "start_time": "2025-03-08T21:54:32.523448Z"
    }
   },
   "outputs": [],
   "source": [
    "times = ['09:45', '10:00', '10:15', '10:30', '10:45', \n",
    "         '11:00', '11:15', '11:30', '11:45', '12:00', \n",
    "         '12:15', '12:30', '12:45', '13:00', '13:15', \n",
    "         '13:30', '13:45', '14:00', '14:15', '14:30', \n",
    "         '14:45', '15:00', '15:15']\n",
    "intraday_cols = ['ReturnResid_' + t for t in times]\n",
    "\n",
    "data_intraday_df['skewness_1d'] = data_intraday_df[intraday_cols].skew(axis=1)"
   ]
  },
  {
   "cell_type": "markdown",
   "id": "dbda407d",
   "metadata": {},
   "source": [
    "## 21-Day skewness"
   ]
  },
  {
   "cell_type": "code",
   "execution_count": 114,
   "id": "7e6ca5fe",
   "metadata": {
    "ExecuteTime": {
     "end_time": "2025-03-08T21:58:44.804362Z",
     "start_time": "2025-03-08T21:58:43.895864Z"
    }
   },
   "outputs": [
    {
     "name": "stderr",
     "output_type": "stream",
     "text": [
      "C:\\Users\\52431\\anaconda3\\Lib\\site-packages\\pandas\\core\\window\\rolling.py:607: RuntimeWarning: All-NaN slice encountered\n",
      "  return func(x, start, end, min_periods, *numba_args)\n"
     ]
    }
   ],
   "source": [
    "data_intraday_df['skewness_21d_resid'] = data_intraday_df.groupby('Id')['CumReturnResid_16:00'].transform(\n",
    "    lambda x: x.shift(1).rolling(window=21, min_periods=21).skew()\n",
    ")"
   ]
  },
  {
   "cell_type": "markdown",
   "id": "9f82df1f",
   "metadata": {},
   "source": [
    "## 63-Day skewness"
   ]
  },
  {
   "cell_type": "code",
   "execution_count": 115,
   "id": "7151ea0b",
   "metadata": {
    "ExecuteTime": {
     "end_time": "2025-03-08T21:59:14.722007Z",
     "start_time": "2025-03-08T21:59:13.677317Z"
    }
   },
   "outputs": [
    {
     "name": "stderr",
     "output_type": "stream",
     "text": [
      "C:\\Users\\52431\\anaconda3\\Lib\\site-packages\\pandas\\core\\window\\rolling.py:607: RuntimeWarning: All-NaN slice encountered\n",
      "  return func(x, start, end, min_periods, *numba_args)\n"
     ]
    }
   ],
   "source": [
    "data_intraday_df['skewness_63d_resid'] = data_intraday_df.groupby('Id')['CumReturnResid_16:00'].transform(\n",
    "    lambda x: x.shift(1).rolling(window=63, min_periods=63).skew()\n",
    ")"
   ]
  },
  {
   "cell_type": "markdown",
   "id": "c39dd827",
   "metadata": {},
   "source": [
    "# Summary"
   ]
  },
  {
   "cell_type": "code",
   "execution_count": 24,
   "id": "41d57eb9",
   "metadata": {
    "ExecuteTime": {
     "end_time": "2025-03-08T22:08:56.098588Z",
     "start_time": "2025-03-08T22:08:56.093588Z"
    }
   },
   "outputs": [],
   "source": [
    "columns = [\n",
    "    'Date','Id',\n",
    "    'y','y_RawReturn','weight',\n",
    "    'cum_return_prev5d','cum_return_prev21d','cum_return_prev63d','cum_return_prev1d',\n",
    "    'cum_return_09:30_10:00', 'cum_return_10:00_11:30',\n",
    "    'cum_return_11:30_13:30', 'cum_return_13:30_15:15',\n",
    "    'relative_volume_15:30',\n",
    "    'relative_volume_prev09:30_11:30', 'relative_volume_prev11:30_13:30',\n",
    "    'relative_volume_prev13:30_16:00',\n",
    "    'relative_volume_09:30_10:00', 'relative_volume_10:00_11:30',\n",
    "    'relative_volume_11:30_13:30', 'relative_volume_13:30_15:30',\n",
    "    'volume_resid_return_corr','volume_raw_return_corr',\n",
    "    'volatility_1d',\n",
    "    'volatility_21d_raw','volatility_21d_resid',\n",
    "    'volatility_63d_raw','volatility_63d_resid',\n",
    "    'hlc_ratio','hlc_21mean',\n",
    "    'skewness_1d','skewness_21d_resid','skewness_63d_resid',\n",
    "]"
   ]
  },
  {
   "cell_type": "code",
   "execution_count": 121,
   "id": "987d65d9",
   "metadata": {
    "ExecuteTime": {
     "end_time": "2025-03-08T22:02:00.998590Z",
     "start_time": "2025-03-08T22:02:00.993360Z"
    }
   },
   "outputs": [],
   "source": [
    "data_daily_df.rename(columns={'ID':'Id'}, inplace=True)"
   ]
  },
  {
   "cell_type": "code",
   "execution_count": null,
   "id": "b0ed1bdb",
   "metadata": {
    "ExecuteTime": {
     "end_time": "2025-03-08T22:13:55.539223Z",
     "start_time": "2025-03-08T22:13:52.784954Z"
    }
   },
   "outputs": [],
   "source": [
    "data_features_df = pd.merge(data_daily_df, data_intraday_df, on=['Date','Id'])[columns].sort_values(['Date', 'Id'])"
   ]
  },
  {
   "cell_type": "markdown",
   "id": "de2d5e0c",
   "metadata": {},
   "source": [
    "## Save data"
   ]
  },
  {
   "cell_type": "code",
   "execution_count": 29,
   "id": "df6b3006",
   "metadata": {
    "ExecuteTime": {
     "end_time": "2025-03-08T22:14:54.997413Z",
     "start_time": "2025-03-08T22:14:10.685083Z"
    }
   },
   "outputs": [],
   "source": [
    "data_features_df.to_csv('data_features_df.csv', index=False)"
   ]
  }
 ],
 "metadata": {
  "kernelspec": {
   "display_name": "base",
   "language": "python",
   "name": "python3"
  },
  "language_info": {
   "codemirror_mode": {
    "name": "ipython",
    "version": 3
   },
   "file_extension": ".py",
   "mimetype": "text/x-python",
   "name": "python",
   "nbconvert_exporter": "python",
   "pygments_lexer": "ipython3",
   "version": "3.11.5"
  },
  "toc": {
   "base_numbering": 1,
   "nav_menu": {},
   "number_sections": true,
   "sideBar": true,
   "skip_h1_title": false,
   "title_cell": "Table of Contents",
   "title_sidebar": "Contents",
   "toc_cell": false,
   "toc_position": {
    "height": "calc(100% - 180px)",
    "left": "10px",
    "top": "150px",
    "width": "341.306px"
   },
   "toc_section_display": true,
   "toc_window_display": true
  },
  "varInspector": {
   "cols": {
    "lenName": 16,
    "lenType": 16,
    "lenVar": 40
   },
   "kernels_config": {
    "python": {
     "delete_cmd_postfix": "",
     "delete_cmd_prefix": "del ",
     "library": "var_list.py",
     "varRefreshCmd": "print(var_dic_list())"
    },
    "r": {
     "delete_cmd_postfix": ") ",
     "delete_cmd_prefix": "rm(",
     "library": "var_list.r",
     "varRefreshCmd": "cat(var_dic_list()) "
    }
   },
   "types_to_exclude": [
    "module",
    "function",
    "builtin_function_or_method",
    "instance",
    "_Feature"
   ],
   "window_display": false
  }
 },
 "nbformat": 4,
 "nbformat_minor": 5
}
